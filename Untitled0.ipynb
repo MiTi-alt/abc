{
  "nbformat": 4,
  "nbformat_minor": 0,
  "metadata": {
    "colab": {
      "provenance": [],
      "authorship_tag": "ABX9TyM/My6MkdcaYvuGmORB0Kes",
      "include_colab_link": true
    },
    "kernelspec": {
      "name": "python3",
      "display_name": "Python 3"
    },
    "language_info": {
      "name": "python"
    }
  },
  "cells": [
    {
      "cell_type": "markdown",
      "metadata": {
        "id": "view-in-github",
        "colab_type": "text"
      },
      "source": [
        "<a href=\"https://colab.research.google.com/github/MiTi-alt/abc/blob/main/Untitled0.ipynb\" target=\"_parent\"><img src=\"https://colab.research.google.com/assets/colab-badge.svg\" alt=\"Open In Colab\"/></a>"
      ]
    },
    {
      "cell_type": "markdown",
      "source": [],
      "metadata": {
        "id": "qVUa7z85eYsI"
      }
    },
    {
      "cell_type": "code",
      "source": [
        "import pandas as pd\n",
        "from sklearn.model_selection import train_test_split\n",
        "from sklearn.preprocessing import LabelEncoder, StandardScaler\n",
        "from sklearn.svm import SVC\n",
        "from sklearn.metrics import accuracy_score, precision_score, recall_score, f1_score\n",
        "from prettytable import PrettyTable\n",
        "import numpy as np\n",
        "from sklearn.metrics import confusion_matrix\n",
        "import seaborn as sns\n",
        "# Load data\n",
        "url = 'https://archive.ics.uci.edu/ml/machine-learning-databases/auto-mpg/auto-mpg.data'\n",
        "column_names = ['mpg', 'cylinders', 'displacement', 'horsepower', 'weight',\n",
        "                'acceleration', 'model year', 'origin', 'car name']\n",
        "df = pd.read_csv(url, sep='\\s+', names=column_names, na_values=['?'])\n",
        "\n",
        "df.dropna(inplace=True)\n",
        "\n",
        "mpg_mean = 20\n",
        "\n",
        "df['target'] = df['mpg'].apply(lambda x: 1 if x >= mpg_mean else 0)\n",
        "\n",
        "X = df.drop(['mpg', 'car name', 'target'], axis=1)\n",
        "y = df['target']\n",
        "X_train, X_test, y_train, y_test = train_test_split(X, y, test_size=0.2, random_state=2)\n",
        "\n",
        "scaler = StandardScaler()\n",
        "X_train = scaler.fit_transform(X_train)\n",
        "X_test = scaler.transform(X_test)\n",
        "\n",
        "clf = SVC(kernel='linear', C=1)\n",
        "clf.fit(X_train, y_train)\n",
        "y_pred = clf.predict(X_test)\n",
        "\n",
        "\n",
        "y_true = y_test\n",
        "y_pred = clf.predict(X_test)\n",
        "count = len(y_true)\n",
        "\n",
        "\n",
        "accuracy = accuracy_score(y_true, y_pred)\n",
        "mean = np.mean(accuracy)\n",
        "std = np.std(accuracy)\n",
        "minimum = np.min(accuracy)\n",
        "twenty_fifth_percentile = np.percentile(accuracy, 25)\n",
        "fiftieth_percentile = np.percentile(accuracy, 50)\n",
        "seventy_fifth_percentile = np.percentile(accuracy, 75)\n",
        "maximum = np.max(accuracy)\n",
        "\n",
        "precision = precision_score(y_true, y_pred)\n",
        "meanA = np.mean(precision)\n",
        "stdA = np.std(precision)\n",
        "minimumA = np.min(precision)\n",
        "twenty_fifth_percentileA = np.percentile(precision, 25)\n",
        "fiftieth_percentileA = np.percentile(precision, 50)\n",
        "seventy_fifth_percentileA = np.percentile(precision, 75)\n",
        "maximumA = np.max(precision)\n",
        "\n",
        "recall = recall_score(y_true, y_pred)\n",
        "meanB = np.mean(recall)\n",
        "stdB = np.std(recall)\n",
        "minimumB = np.min(recall)\n",
        "twenty_fifth_percentileB = np.percentile(recall, 25)\n",
        "fiftieth_percentileB = np.percentile(recall, 50)\n",
        "seventy_fifth_percentileB = np.percentile(recall, 75)\n",
        "maximumB = np.max(recall)\n",
        "\n",
        "F1 = f1_score(y_true, y_pred)\n",
        "meanC = np.mean(F1)\n",
        "stdC = np.std(F1)\n",
        "minimumC = np.min(F1)\n",
        "twenty_fifth_percentileC = np.percentile(F1, 25)\n",
        "fiftieth_percentileC = np.percentile(F1, 50)\n",
        "seventy_fifth_percentileC = np.percentile(F1, 75)\n",
        "maximumC = np.max(F1)\n",
        "\n",
        "print('BUILD AND EVALUATE SVM MODEL')\n",
        "print('A. Cross Validation on Training Set')\n",
        "table = PrettyTable()\n",
        "table.field_names = [\"\", \"Accuracy\", \"Precision\", \"Recall\", \"F1\"]\n",
        "table.add_row([\"Count\", count, count, count, count])\n",
        "table.add_row([\"Mean\", mean, meanA, meanB, meanC])\n",
        "table.add_row([\"Std\", std, stdA, stdB, stdC])\n",
        "table.add_row([\"Min\", minimum, minimumA, minimumB, minimumC])\n",
        "table.add_row([\"25%\", twenty_fifth_percentile, twenty_fifth_percentileA, twenty_fifth_percentileB, twenty_fifth_percentileC])\n",
        "table.add_row([\"50%\", fiftieth_percentile, fiftieth_percentileA, fiftieth_percentileB, fiftieth_percentileC])\n",
        "table.add_row([\"75%\", seventy_fifth_percentile, seventy_fifth_percentileA, seventy_fifth_percentileB, seventy_fifth_percentileC])\n",
        "table.add_row([\"Max\", maximum, maximumA, maximumB, maximumC])\n",
        "print(table)\n",
        "table1 = PrettyTable()\n",
        "table1.field_names = [ \"Accuracy\", \"Precision\", \"Recall\", \"F1\"]\n",
        "table1.add_row([accuracy,precision,recall,F1])\n",
        "print('B. Final Validation on Test Set')\n",
        "print(table1)\n",
        "print(' ')\n",
        "print(' ')\n",
        "print(' ')\n",
        "import matplotlib.pyplot as plt\n",
        "\n",
        "metrics = ['Accuracy', 'Precision', 'Recall', 'F1']\n",
        "counts = [count, count, count, count]\n",
        "means = [mean, meanA, meanB, meanC]\n",
        "stds = [std, stdA, stdB, stdC]\n",
        "\n",
        "plt.bar(metrics, means, yerr=stds, capsize=10)\n",
        "plt.xlabel('Metrics')\n",
        "plt.ylabel('Mean')\n",
        "plt.title('Evaluation Metrics')\n",
        "plt.show()\n",
        "\n",
        "scaler = StandardScaler()\n",
        "X_train = scaler.fit_transform(X_train)\n",
        "X_test = scaler.transform(X_test)\n",
        "\n",
        "clf = SVC(kernel='linear', C=1)\n",
        "clf.fit(X_train, y_train)\n",
        "y_pred = clf.predict(X_test)\n",
        "print(' ')\n",
        "# Confusion matrix\n",
        "cm = confusion_matrix(y_test, y_pred)\n",
        "sns.heatmap(cm, annot=True, cmap='Blues')\n",
        "plt.xlabel('Predicted labels')\n",
        "plt.ylabel('True labels')\n",
        "plt.show()"
      ],
      "metadata": {
        "colab": {
          "base_uri": "https://localhost:8080/",
          "height": 1000
        },
        "id": "XsgZkHq6eY7L",
        "outputId": "a78fb81d-ac10-4942-f68a-9807db19f1cc"
      },
      "execution_count": 216,
      "outputs": [
        {
          "output_type": "stream",
          "name": "stdout",
          "text": [
            "BUILD AND EVALUATE SVM MODEL\n",
            "A. Cross Validation on Training Set\n",
            "+-------+--------------------+--------------------+--------------------+--------------------+\n",
            "|       |      Accuracy      |     Precision      |       Recall       |         F1         |\n",
            "+-------+--------------------+--------------------+--------------------+--------------------+\n",
            "| Count |         79         |         79         |         79         |         79         |\n",
            "|  Mean | 0.8734177215189873 | 0.8775510204081632 | 0.9148936170212766 | 0.8958333333333333 |\n",
            "|  Std  |        0.0         |        0.0         |        0.0         |        0.0         |\n",
            "|  Min  | 0.8734177215189873 | 0.8775510204081632 | 0.9148936170212766 | 0.8958333333333333 |\n",
            "|  25%  | 0.8734177215189873 | 0.8775510204081632 | 0.9148936170212766 | 0.8958333333333333 |\n",
            "|  50%  | 0.8734177215189873 | 0.8775510204081632 | 0.9148936170212766 | 0.8958333333333333 |\n",
            "|  75%  | 0.8734177215189873 | 0.8775510204081632 | 0.9148936170212766 | 0.8958333333333333 |\n",
            "|  Max  | 0.8734177215189873 | 0.8775510204081632 | 0.9148936170212766 | 0.8958333333333333 |\n",
            "+-------+--------------------+--------------------+--------------------+--------------------+\n",
            "B. Final Validation on Test Set\n",
            "+--------------------+--------------------+--------------------+--------------------+\n",
            "|      Accuracy      |     Precision      |       Recall       |         F1         |\n",
            "+--------------------+--------------------+--------------------+--------------------+\n",
            "| 0.8734177215189873 | 0.8775510204081632 | 0.9148936170212766 | 0.8958333333333333 |\n",
            "+--------------------+--------------------+--------------------+--------------------+\n",
            " \n",
            " \n",
            " \n"
          ]
        },
        {
          "output_type": "display_data",
          "data": {
            "text/plain": [
              "<Figure size 640x480 with 1 Axes>"
            ],
            "image/png": "[encoded data removed]"
          },
          "metadata": {}
        },
        {
          "output_type": "stream",
          "name": "stdout",
          "text": [
            " \n"
          ]
        },
        {
          "output_type": "display_data",
          "data": {
            "text/plain": [
              "<Figure size 640x480 with 2 Axes>"
            ],
            "image/png": "[encoded data removed]"
          },
          "metadata": {}
        }
      ]
    },
    {
      "cell_type": "code",
      "source": [],
      "metadata": {
        "id": "vucFOxykt2kr"
      },
      "execution_count": null,
      "outputs": []
    }
  ]
}