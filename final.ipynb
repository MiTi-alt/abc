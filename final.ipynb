{
  "nbformat": 4,
  "nbformat_minor": 0,
  "metadata": {
    "colab": {
      "provenance": [],
      "authorship_tag": "ABX9TyP0MoOMPNARk2JB4q+YjJwg",
      "include_colab_link": true
    },
    "kernelspec": {
      "name": "python3",
      "display_name": "Python 3"
    },
    "language_info": {
      "name": "python"
    }
  },
  "cells": [
    {
      "cell_type": "markdown",
      "metadata": {
        "id": "view-in-github",
        "colab_type": "text"
      },
      "source": [
        "<a href=\"https://colab.research.google.com/github/MiTi-alt/abc/blob/main/final.ipynb\" target=\"_parent\"><img src=\"https://colab.research.google.com/assets/colab-badge.svg\" alt=\"Open In Colab\"/></a>"
      ]
    },
    {
      "cell_type": "markdown",
      "source": [],
      "metadata": {
        "id": "qVUa7z85eYsI"
      }
    },
    {
      "cell_type": "markdown",
      "source": [
        "Đồ án môn máy học: Auto MPG Data Set\n",
        "\n",
        "Import Libraries"
      ],
      "metadata": {
        "id": "l0PyvdnmBy5g"
      }
    },
    {
      "cell_type": "code",
      "source": [
        "import pandas as pd\n",
        "from sklearn.model_selection import train_test_split\n",
        "from sklearn.preprocessing import LabelEncoder, StandardScaler\n",
        "from sklearn.svm import SVC\n",
        "from prettytable import PrettyTable\n",
        "import numpy as np\n",
        "from sklearn.metrics import confusion_matrix\n",
        "import seaborn as sns\n",
        "from sklearn.metrics import classification_report, precision_recall_fscore_support, accuracy_score, precision_score, recall_score, f1_score, confusion_matrix\n",
        "import matplotlib.pyplot as plt\n",
        "from sklearn.neighbors import KNeighborsClassifier\n",
        "from sklearn.naive_bayes import GaussianNB\n",
        "from sklearn.ensemble import RandomForestClassifier\n",
        "from sklearn.model_selection import cross_validate\n",
        "from sklearn.tree import DecisionTreeClassifier\n",
        "from sklearn.model_selection import cross_val_score"
      ],
      "metadata": {
        "id": "_tonpQFGB3F3"
      },
      "execution_count": 1,
      "outputs": []
    },
    {
      "cell_type": "markdown",
      "source": [
        "Load dữ liệu\n"
      ],
      "metadata": {
        "id": "W9YEex9UB8uo"
      }
    },
    {
      "cell_type": "code",
      "source": [
        "url = 'https://archive.ics.uci.edu/ml/machine-learning-databases/auto-mpg/auto-mpg.data'\n",
        "column_names = ['mpg', 'cylinders', 'displacement', 'horsepower', 'weight',\n",
        "                'acceleration', 'model year', 'origin', 'car name']\n",
        "df = pd.read_csv(url, sep='\\s+', names=column_names, na_values=['?'])"
      ],
      "metadata": {
        "id": "c99YLqeDCA1E"
      },
      "execution_count": 2,
      "outputs": []
    },
    {
      "cell_type": "markdown",
      "source": [
        "Tiền xử lí"
      ],
      "metadata": {
        "id": "QZ1QZcphCD52"
      }
    },
    {
      "cell_type": "code",
      "source": [
        "\n",
        "#  thay thế các hàng chứa giá trị bị khuyết trong DataFrame df bằng giá trị trung bình.\n",
        "df.fillna(df.mean(), inplace=True)\n",
        "# Biến mpg_mean được gán giá trị 20 giá trị hao tổn nguyên liệu.\n",
        "mpg_mean = 20\n",
        "# tạo một cột mới trong DataFrame df, được gọi là \"target\", được tính bằng cách so sánh giá trị của cột \"mpg\" với giá trị trung bình của \"mpg_mean\". \n",
        "#Nếu giá trị \"mpg\" lớn hơn hoặc bằng mpg_mean, giá trị trong cột \"target\" sẽ là 1, ngược lại sẽ là 0.\n",
        "df['target'] = df['mpg'].apply(lambda x: 1 if x >= mpg_mean else 0)\n",
        "#tạo biến X chứa tất cả các cột trong DataFrame df trừ cột \"mpg\", \"car name\" và \"target\".\n",
        "X = df.drop(['mpg', 'car name', 'target'], axis=1)\n",
        "#Biến y được gán giá trị của cột \"target\" trong DataFrame df.\n",
        "y = df['target']\n",
        "#chia tập dữ liệu thành tập huấn luyện và tập kiểm tra, với tỷ lệ 80/20\n",
        "X_train, X_test, y_train, y_test = train_test_split(X, y, test_size=0.2, random_state=2)\n",
        "#Chuẩn hóa dữ liệu\n",
        "scaler = StandardScaler()\n",
        "X_train = scaler.fit_transform(X_train)\n",
        "X_test = scaler.transform(X_test)"
      ],
      "metadata": {
        "colab": {
          "base_uri": "https://localhost:8080/"
        },
        "id": "BAzk-IsYCFjD",
        "outputId": "e691d848-bf0b-4a44-e5fe-284ed1303606"
      },
      "execution_count": 29,
      "outputs": [
        {
          "output_type": "stream",
          "name": "stderr",
          "text": [
            "<ipython-input-29-b11ad7af365c>:2: FutureWarning: The default value of numeric_only in DataFrame.mean is deprecated. In a future version, it will default to False. In addition, specifying 'numeric_only=None' is deprecated. Select only valid columns or specify the value of numeric_only to silence this warning.\n",
            "  df.fillna(df.mean(), inplace=True)\n"
          ]
        }
      ]
    },
    {
      "cell_type": "markdown",
      "source": [
        "Training Machine Learning Model"
      ],
      "metadata": {
        "id": "PTRXiT_HCIBZ"
      }
    },
    {
      "cell_type": "markdown",
      "source": [
        "1.SVM"
      ],
      "metadata": {
        "id": "xuKw3tnuCJX5"
      }
    },
    {
      "cell_type": "code",
      "source": [
        "svm = SVC(kernel='linear',C=5)\n",
        "scoring = ['accuracy', 'precision_macro', 'recall_macro', 'f1_macro']\n",
        "cv_results = cross_validate(svm, X_train, y_train, cv=5, scoring=scoring)\n",
        "\n",
        "svm.fit(X_train, y_train)\n",
        "y_pred = svm.predict(X_test)\n",
        "accuracy = cv_results['test_accuracy']\n",
        "precision = cv_results['test_precision_macro']\n",
        "recall = cv_results['test_recall_macro']\n",
        "f1 = cv_results['test_f1_macro']\n",
        "accuracy_sc = accuracy_score(y_test, y_pred)\n",
        "precision_sc = precision_score(y_test, y_pred)\n",
        "recall_sc = recall_score(y_test, y_pred)\n",
        "f1_sc = f1_score(y_test, y_pred)\n",
        "\n",
        "print('BUILD AND EVALUATE SVM MODEL')\n",
        "print('A. Cross Validation on Training Set')\n",
        "\n",
        "table = PrettyTable()\n",
        "table.field_names = [\"Statistic\", \"Accuracy\", \"Precision\", \"Recall\", \"F1\"]\n",
        "table.add_row([\"Count\", len(accuracy), len(precision), len(recall), len(f1)])\n",
        "table.add_row([\"Mean\", accuracy.mean(), precision.mean(), recall.mean(), f1.mean()])\n",
        "table.add_row([\"Std\", accuracy.std(), precision.std(), recall.std(), f1.std()])\n",
        "table.add_row([\"Min\", accuracy.min(), precision.min(), recall.min(), f1.min()])\n",
        "table.add_row([\"25%\", pd.Series(accuracy).quantile(0.25), pd.Series(precision).quantile(0.25), pd.Series(recall).quantile(0.25), pd.Series(f1).quantile(0.25)])\n",
        "table.add_row([\"50%\", pd.Series(accuracy).quantile(0.5), pd.Series(precision).quantile(0.5), pd.Series(recall).quantile(0.5), pd.Series(f1).quantile(0.5)])\n",
        "table.add_row([\"75%\", pd.Series(accuracy).quantile(0.75), pd.Series(precision).quantile(0.75), pd.Series(recall).quantile(0.75), pd.Series(f1).quantile(0.75)])\n",
        "table.add_row([\"Max\", accuracy.max(), precision.max(), recall.max(), f1.max()])\n",
        "\n",
        "print(table)\n",
        "print('B. Final Validation on Test Set')\n",
        "\n",
        "\n",
        "table1 = PrettyTable()\n",
        "table1.field_names = [ \"Accuracy\", \"Precision\", \"Recall\", \"F1\"]\n",
        "table1.add_row([accuracy_sc,precision_sc,recall_sc,f1_sc])\n",
        "print(table1)\n",
        "print(\" \")\n",
        "print(\" \")\n",
        "# In sơ đồ\n",
        "labels = ['Accuracy', 'Precision', 'Recall', 'F1']\n",
        "counts = [2, 2, 2, 2]\n",
        "means = [accuracy.mean(), precision.mean(), recall.mean(), f1.mean()]\n",
        "stds = [accuracy.std(), precision.std(), recall.std(), f1.std()]\n",
        "mins = [accuracy.min(), precision.min(), recall.min(), f1.min()]\n",
        "maxs = [accuracy.max(), precision.max(), recall.max(), f1.max()]\n",
        "fig, ax = plt.subplots()\n",
        "x_pos = [i for i, _ in enumerate(labels)]\n",
        "ax.bar(x_pos, means, yerr=stds, align='center', alpha=0.5, ecolor='black', capsize=10)\n",
        "ax.set_ylabel('Score')\n",
        "ax.set_xticks(x_pos)\n",
        "ax.set_xticklabels(labels)\n",
        "ax.set_title('Performance Metrics')\n",
        "for i in range(len(x_pos)):\n",
        "    ax.errorbar(x_pos[i], means[i], yerr=stds[i], fmt='o', color='black', markersize=8)\n",
        "plt.show()\n",
        "print(\" \")\n",
        "print(\" \")\n",
        "confusion_mat = confusion_matrix(y_test, y_pred)\n",
        "print(confusion_mat)\n",
        "print('means',means)\n",
        "print('stds',stds)\n",
        "print('mins',mins)\n",
        "print('maxs',maxs)\n",
        "print([accuracy_sc,precision_sc,recall_sc,f1_sc])\n",
        "sns.heatmap(confusion_mat, annot=True, fmt='d', cmap='Blues')\n",
        "plt.xlabel('Predicted Label')\n",
        "plt.ylabel('True Label')\n",
        "plt.show()\n",
        "#Mô hình có kết quả training rất cao đều trên 0.9\n",
        "#Tuy nhiên đối với hàm test thì recall đạt giá trị chỉ khoảng 85% điều này có thể cho thấy mô hình không thể phân loại được một số trường hợp thuộc lớp positive trên tập dữ liệu kiểm tra"
      ],
      "metadata": {
        "id": "CLd6OKmeCLf_"
      },
      "execution_count": null,
      "outputs": []
    },
    {
      "cell_type": "markdown",
      "source": [
        "2.KNN\n"
      ],
      "metadata": {
        "id": "kSnFDMNsCsE2"
      }
    },
    {
      "cell_type": "code",
      "source": [
        "knn = KNeighborsClassifier(n_neighbors=5, weights='distance')\n",
        "scoring = ['accuracy', 'precision_macro', 'recall_macro', 'f1_macro']\n",
        "cv_results = cross_validate(knn, X_train, y_train, cv=5, scoring=scoring)\n",
        "\n",
        "knn.fit(X_train, y_train)\n",
        "y_pred = knn.predict(X_test)\n",
        "accuracy = cv_results['test_accuracy']\n",
        "precision = cv_results['test_precision_macro']\n",
        "recall = cv_results['test_recall_macro']\n",
        "f1 = cv_results['test_f1_macro']\n",
        "accuracy_sc = accuracy_score(y_test, y_pred)\n",
        "precision_sc = precision_score(y_test, y_pred)\n",
        "recall_sc = recall_score(y_test, y_pred)\n",
        "f1_sc = f1_score(y_test, y_pred)\n",
        "\n",
        "print('BUILD AND EVALUATE KNN MODEL')\n",
        "print('A. Cross Validation on Training Set')\n",
        "\n",
        "table = PrettyTable()\n",
        "table.field_names = [\"Statistic\", \"Accuracy\", \"Precision\", \"Recall\", \"F1\"]\n",
        "table.add_row([\"Count\", len(accuracy), len(precision), len(recall), len(f1)])\n",
        "table.add_row([\"Mean\", accuracy.mean(), precision.mean(), recall.mean(), f1.mean()])\n",
        "table.add_row([\"Std\", accuracy.std(), precision.std(), recall.std(), f1.std()])\n",
        "table.add_row([\"Min\", accuracy.min(), precision.min(), recall.min(), f1.min()])\n",
        "table.add_row([\"25%\", pd.Series(accuracy).quantile(0.25), pd.Series(precision).quantile(0.25), pd.Series(recall).quantile(0.25), pd.Series(f1).quantile(0.25)])\n",
        "table.add_row([\"50%\", pd.Series(accuracy).quantile(0.5), pd.Series(precision).quantile(0.5), pd.Series(recall).quantile(0.5), pd.Series(f1).quantile(0.5)])\n",
        "table.add_row([\"75%\", pd.Series(accuracy).quantile(0.75), pd.Series(precision).quantile(0.75), pd.Series(recall).quantile(0.75), pd.Series(f1).quantile(0.75)])\n",
        "table.add_row([\"Max\", accuracy.max(), precision.max(), recall.max(), f1.max()])\n",
        "\n",
        "print(table)\n",
        "print('B. Final Validation on Test Set')\n",
        "\n",
        "\n",
        "table1 = PrettyTable()\n",
        "table1.field_names = [ \"Accuracy\", \"Precision\", \"Recall\", \"F1\"]\n",
        "table1.add_row([accuracy_sc,precision_sc,recall_sc,f1_sc])\n",
        "print(table1)\n",
        "print(\" \")\n",
        "print(\" \")\n",
        "# In sơ đồ\n",
        "labels = ['Accuracy', 'Precision', 'Recall', 'F1']\n",
        "counts = [2, 2, 2, 2]\n",
        "means = [accuracy.mean(), precision.mean(), recall.mean(), f1.mean()]\n",
        "stds = [accuracy.std(), precision.std(), recall.std(), f1.std()]\n",
        "mins = [accuracy.min(), precision.min(), recall.min(), f1.min()]\n",
        "maxs = [accuracy.max(), precision.max(), recall.max(), f1.max()]\n",
        "fig, ax = plt.subplots()\n",
        "x_pos = [i for i, _ in enumerate(labels)]\n",
        "ax.bar(x_pos, means, yerr=stds, align='center', alpha=0.5, ecolor='black', capsize=10)\n",
        "ax.set_ylabel('Score')\n",
        "ax.set_xticks(x_pos)\n",
        "ax.set_xticklabels(labels)\n",
        "ax.set_title('Performance Metrics')\n",
        "for i in range(len(x_pos)):\n",
        "    ax.errorbar(x_pos[i], means[i], yerr=stds[i], fmt='o', color='black', markersize=8)\n",
        "plt.show()\n",
        "print(\" \")\n",
        "print(\" \")\n",
        "confusion_mat = confusion_matrix(y_test, y_pred)\n",
        "print(confusion_mat)\n",
        "print('means',means)\n",
        "print('stds',stds)\n",
        "print('mins',mins)\n",
        "print('maxs',maxs)\n",
        "print([accuracy_sc,precision_sc,recall_sc,f1_sc])\n",
        "sns.heatmap(confusion_mat, annot=True, fmt='d', cmap='Blues')\n",
        "plt.xlabel('Predicted Label')\n",
        "plt.ylabel('True Label')\n",
        "plt.show()\n",
        "#Dựa trên confusion matrix và các chỉ số hiệu suất, mô hình KNN có Accuracy và Precision thấp hơn so với mô hình trước đó, chỉ đạt khoảng 90%. \n",
        "#Điều này cho thấy mô hình không hoạt động tốt cho tác vụ phân loại trên dữ liệu này.  Recall  và điểm F1 của mô hình cũng đạt mức khá thấp. \n",
        "#Kết quả kiểm tra trên tập dữ liệu giữ lại cho thấy Recall  của mô hình chỉ đạt khoảng 85%, tương tự như mô hình trước đó. \n",
        "#Tuy nhiên, Precision của mô hình trên tập kiểm tra có vẻ tốt hơn, đạt khoảng 94%. Tuy nhiên, với các chỉ số trên đã cho, mô hình KNN có thể không phù hợp cho tác vụ phân loại dữ liệu này."
      ],
      "metadata": {
        "id": "tkmEyeQJCt9E"
      },
      "execution_count": null,
      "outputs": []
    },
    {
      "cell_type": "markdown",
      "source": [
        "3.Naïve Bayes"
      ],
      "metadata": {
        "id": "noX5ru5ZC10B"
      }
    },
    {
      "cell_type": "code",
      "source": [
        "nb = GaussianNB(var_smoothing=1e-09)\n",
        "scoring = ['accuracy', 'precision_macro', 'recall_macro', 'f1_macro']\n",
        "cv_results = cross_validate(nb, X_train, y_train, cv=5, scoring=scoring)\n",
        "\n",
        "nb.fit(X_train, y_train)\n",
        "y_pred = nb.predict(X_test)\n",
        "accuracy = cv_results['test_accuracy']\n",
        "precision = cv_results['test_precision_macro']\n",
        "recall = cv_results['test_recall_macro']\n",
        "f1 = cv_results['test_f1_macro']\n",
        "accuracy_sc = accuracy_score(y_test, y_pred)\n",
        "precision_sc = precision_score(y_test, y_pred)\n",
        "recall_sc = recall_score(y_test, y_pred)\n",
        "f1_sc = f1_score(y_test, y_pred)\n",
        "\n",
        "print('BUILD AND EVALUATE NB MODEL')\n",
        "print('A. Cross Validation on Training Set')\n",
        "\n",
        "table = PrettyTable()\n",
        "table.field_names = [\"Statistic\", \"Accuracy\", \"Precision\", \"Recall\", \"F1\"]\n",
        "table.add_row([\"Count\", len(accuracy), len(precision), len(recall), len(f1)])\n",
        "table.add_row([\"Mean\", accuracy.mean(), precision.mean(), recall.mean(), f1.mean()])\n",
        "table.add_row([\"Std\", accuracy.std(), precision.std(), recall.std(), f1.std()])\n",
        "table.add_row([\"Min\", accuracy.min(), precision.min(), recall.min(), f1.min()])\n",
        "table.add_row([\"25%\", pd.Series(accuracy).quantile(0.25), pd.Series(precision).quantile(0.25), pd.Series(recall).quantile(0.25), pd.Series(f1).quantile(0.25)])\n",
        "table.add_row([\"50%\", pd.Series(accuracy).quantile(0.5), pd.Series(precision).quantile(0.5), pd.Series(recall).quantile(0.5), pd.Series(f1).quantile(0.5)])\n",
        "table.add_row([\"75%\", pd.Series(accuracy).quantile(0.75), pd.Series(precision).quantile(0.75), pd.Series(recall).quantile(0.75), pd.Series(f1).quantile(0.75)])\n",
        "table.add_row([\"Max\", accuracy.max(), precision.max(), recall.max(), f1.max()])\n",
        "\n",
        "print(table)\n",
        "print('B. Final Validation on Test Set')\n",
        "\n",
        "\n",
        "table1 = PrettyTable()\n",
        "table1.field_names = [ \"Accuracy\", \"Precision\", \"Recall\", \"F1\"]\n",
        "table1.add_row([accuracy_sc,precision_sc,recall_sc,f1_sc])\n",
        "print(table1)\n",
        "print(\" \")\n",
        "print(\" \")\n",
        "# In sơ đồ\n",
        "labels = ['Accuracy', 'Precision', 'Recall', 'F1']\n",
        "counts = [2, 2, 2, 2]\n",
        "means = [accuracy.mean(), precision.mean(), recall.mean(), f1.mean()]\n",
        "stds = [accuracy.std(), precision.std(), recall.std(), f1.std()]\n",
        "mins = [accuracy.min(), precision.min(), recall.min(), f1.min()]\n",
        "maxs = [accuracy.max(), precision.max(), recall.max(), f1.max()]\n",
        "fig, ax = plt.subplots()\n",
        "x_pos = [i for i, _ in enumerate(labels)]\n",
        "ax.bar(x_pos, means, yerr=stds, align='center', alpha=0.5, ecolor='black', capsize=10)\n",
        "ax.set_ylabel('Score')\n",
        "ax.set_xticks(x_pos)\n",
        "ax.set_xticklabels(labels)\n",
        "ax.set_title('Performance Metrics')\n",
        "for i in range(len(x_pos)):\n",
        "    ax.errorbar(x_pos[i], means[i], yerr=stds[i], fmt='o', color='black', markersize=8)\n",
        "plt.show()\n",
        "print(\" \")\n",
        "print(\" \")\n",
        "confusion_mat = confusion_matrix(y_test, y_pred)\n",
        "print(confusion_mat)\n",
        "print('means',means)\n",
        "print('stds',stds)\n",
        "print('mins',mins)\n",
        "print('maxs',maxs)\n",
        "print([accuracy_sc,precision_sc,recall_sc,f1_sc])\n",
        "sns.heatmap(confusion_mat, annot=True, fmt='d', cmap='Blues')\n",
        "plt.xlabel('Predicted Label')\n",
        "plt.ylabel('True Label')\n",
        "plt.show()\n",
        "#Dựa trên confusion matrix và các chỉ số hiệu suất, mô hình Naïve Bayes cho thấy độ chính xác và độ chính xác positive tính rất cao, đạt trên 91%, với độ nhạy và điểm F1 khá tốt. \n",
        "#Điểm đáng chú ý của mô hình này là không có trường hợp nào bị dự đoán sai thành thuộc lớp negative. Kết quả kiểm tra trên tập dữ liệu giữ lại cho thấy độ chính xác positive tính của mô hình đạt 100%, \n",
        "#tuy nhiên độ nhạy của mô hình khá thấp, chỉ khoảng 83%. Tuy nhiên, với các chỉ số trên đã cho, mô hình Naïve Bayes là một lựa chọn tốt cho tác vụ phân loại dữ liệu này."
      ],
      "metadata": {
        "id": "tE3Jm10xC3Hi"
      },
      "execution_count": null,
      "outputs": []
    },
    {
      "cell_type": "markdown",
      "source": [
        "4.Rừng cây ngẫu nhiên"
      ],
      "metadata": {
        "id": "vy0-ZL8ZC16_"
      }
    },
    {
      "cell_type": "code",
      "source": [
        "rf = RandomForestClassifier(n_estimators=100, random_state=2)\n",
        "\n",
        "scoring = ['accuracy', 'precision_macro', 'recall_macro', 'f1_macro']\n",
        "cv_results = cross_validate(rf, X_train, y_train, cv=5, scoring=scoring)\n",
        "\n",
        "rf.fit(X_train, y_train)\n",
        "y_pred = rf.predict(X_test)\n",
        "accuracy = cv_results['test_accuracy']\n",
        "precision = cv_results['test_precision_macro']\n",
        "recall = cv_results['test_recall_macro']\n",
        "f1 = cv_results['test_f1_macro']\n",
        "accuracy_sc = accuracy_score(y_test, y_pred)\n",
        "precision_sc = precision_score(y_test, y_pred)\n",
        "recall_sc = recall_score(y_test, y_pred)\n",
        "f1_sc = f1_score(y_test, y_pred)\n",
        "\n",
        "print('BUILD AND EVALUATE RF MODEL')\n",
        "print('A. Cross Validation on Training Set')\n",
        "\n",
        "table = PrettyTable()\n",
        "table.field_names = [\"Statistic\", \"Accuracy\", \"Precision\", \"Recall\", \"F1\"]\n",
        "table.add_row([\"Count\", len(accuracy), len(precision), len(recall), len(f1)])\n",
        "table.add_row([\"Mean\", accuracy.mean(), precision.mean(), recall.mean(), f1.mean()])\n",
        "table.add_row([\"Std\", accuracy.std(), precision.std(), recall.std(), f1.std()])\n",
        "table.add_row([\"Min\", accuracy.min(), precision.min(), recall.min(), f1.min()])\n",
        "table.add_row([\"25%\", pd.Series(accuracy).quantile(0.25), pd.Series(precision).quantile(0.25), pd.Series(recall).quantile(0.25), pd.Series(f1).quantile(0.25)])\n",
        "table.add_row([\"50%\", pd.Series(accuracy).quantile(0.5), pd.Series(precision).quantile(0.5), pd.Series(recall).quantile(0.5), pd.Series(f1).quantile(0.5)])\n",
        "table.add_row([\"75%\", pd.Series(accuracy).quantile(0.75), pd.Series(precision).quantile(0.75), pd.Series(recall).quantile(0.75), pd.Series(f1).quantile(0.75)])\n",
        "table.add_row([\"Max\", accuracy.max(), precision.max(), recall.max(), f1.max()])\n",
        "\n",
        "print(table)\n",
        "print('B. Final Validation on Test Set')\n",
        "\n",
        "\n",
        "table1 = PrettyTable()\n",
        "table1.field_names = [ \"Accuracy\", \"Precision\", \"Recall\", \"F1\"]\n",
        "table1.add_row([accuracy_sc,precision_sc,recall_sc,f1_sc])\n",
        "print(table1)\n",
        "print(\" \")\n",
        "print(\" \")\n",
        "# In sơ đồ\n",
        "labels = ['Accuracy', 'Precision', 'Recall', 'F1']\n",
        "counts = [2, 2, 2, 2]\n",
        "means = [accuracy.mean(), precision.mean(), recall.mean(), f1.mean()]\n",
        "stds = [accuracy.std(), precision.std(), recall.std(), f1.std()]\n",
        "mins = [accuracy.min(), precision.min(), recall.min(), f1.min()]\n",
        "maxs = [accuracy.max(), precision.max(), recall.max(), f1.max()]\n",
        "fig, ax = plt.subplots()\n",
        "x_pos = [i for i, _ in enumerate(labels)]\n",
        "ax.bar(x_pos, means, yerr=stds, align='center', alpha=0.5, ecolor='black', capsize=10)\n",
        "ax.set_ylabel('Score')\n",
        "ax.set_xticks(x_pos)\n",
        "ax.set_xticklabels(labels)\n",
        "ax.set_title('Performance Metrics')\n",
        "for i in range(len(x_pos)):\n",
        "    ax.errorbar(x_pos[i], means[i], yerr=stds[i], fmt='o', color='black', markersize=8)\n",
        "plt.show()\n",
        "print(\" \")\n",
        "print(\" \")\n",
        "confusion_mat = confusion_matrix(y_test, y_pred)\n",
        "print(confusion_mat)\n",
        "print('means',means)\n",
        "print('stds',stds)\n",
        "print('mins',mins)\n",
        "print('maxs',maxs)\n",
        "print([accuracy_sc,precision_sc,recall_sc,f1_sc])\n",
        "sns.heatmap(confusion_mat, annot=True, fmt='d', cmap='Blues')\n",
        "plt.xlabel('Predicted Label')\n",
        "plt.ylabel('True Label')\n",
        "plt.show()\n",
        "#Dựa trên confusion matrix và các chỉ số hiệu suất, mô hình Rừng ngẫu nhiên cho thấy độ chính xác và độ chính xác positive tính rất cao, đạt trên 91%, với độ nhạy và điểm F1 khá tốt. \n",
        "#Điểm đáng chú ý của mô hình này là chỉ có 1 trường hợp bị dự đoán sai thành thuộc lớp negative. Kết quả kiểm tra trên tập dữ liệu giữ lại cho thấy độ chính xác positive tính của mô hình đạt 98%, \n",
        "#và độ nhạy của mô hình cũng khá cao, đạt khoảng 87%, tuy nhiên điểm F1 không thực sự tốt, chỉ khoảng 92%. Với các chỉ số trên đã cho, \n",
        "#mô hình Rừng ngẫu nhiên là một lựa chọn tốt cho tác vụ phân loại dữ liệu này, tuy nhiên cần kiểm tra kỹ hơn các các điểm dữ liệu bị phân loại sai để cải thiện độ nhạy của mô hình."
      ],
      "metadata": {
        "id": "SQr9wovHC8Lo"
      },
      "execution_count": null,
      "outputs": []
    },
    {
      "cell_type": "markdown",
      "source": [
        "5.Cây quyết định"
      ],
      "metadata": {
        "id": "ClFN6ucFC-id"
      }
    },
    {
      "cell_type": "code",
      "source": [
        "dtc = DecisionTreeClassifier()\n",
        "\n",
        "scoring = ['accuracy', 'precision_macro', 'recall_macro', 'f1_macro']\n",
        "cv_results = cross_validate(dtc, X_train, y_train, cv=5, scoring=scoring)\n",
        "\n",
        "dtc.fit(X_train, y_train)\n",
        "y_pred = dtc.predict(X_test)\n",
        "accuracy = cv_results['test_accuracy']\n",
        "precision = cv_results['test_precision_macro']\n",
        "recall = cv_results['test_recall_macro']\n",
        "f1 = cv_results['test_f1_macro']\n",
        "accuracy_sc = accuracy_score(y_test, y_pred)\n",
        "precision_sc = precision_score(y_test, y_pred)\n",
        "recall_sc = recall_score(y_test, y_pred)\n",
        "f1_sc = f1_score(y_test, y_pred)\n",
        "\n",
        "print('BUILD AND EVALUATE DecisionTreeClassifier MODEL')\n",
        "print('A. Cross Validation on Training Set')\n",
        "\n",
        "table = PrettyTable()\n",
        "table.field_names = [\"Statistic\", \"Accuracy\", \"Precision\", \"Recall\", \"F1\"]\n",
        "table.add_row([\"Count\", len(accuracy), len(precision), len(recall), len(f1)])\n",
        "table.add_row([\"Mean\", accuracy.mean(), precision.mean(), recall.mean(), f1.mean()])\n",
        "table.add_row([\"Std\", accuracy.std(), precision.std(), recall.std(), f1.std()])\n",
        "table.add_row([\"Min\", accuracy.min(), precision.min(), recall.min(), f1.min()])\n",
        "table.add_row([\"25%\", pd.Series(accuracy).quantile(0.25), pd.Series(precision).quantile(0.25), pd.Series(recall).quantile(0.25), pd.Series(f1).quantile(0.25)])\n",
        "table.add_row([\"50%\", pd.Series(accuracy).quantile(0.5), pd.Series(precision).quantile(0.5), pd.Series(recall).quantile(0.5), pd.Series(f1).quantile(0.5)])\n",
        "table.add_row([\"75%\", pd.Series(accuracy).quantile(0.75), pd.Series(precision).quantile(0.75), pd.Series(recall).quantile(0.75), pd.Series(f1).quantile(0.75)])\n",
        "table.add_row([\"Max\", accuracy.max(), precision.max(), recall.max(), f1.max()])\n",
        "\n",
        "print(table)\n",
        "print('B. Final Validation on Test Set')\n",
        "\n",
        "\n",
        "table1 = PrettyTable()\n",
        "table1.field_names = [ \"Accuracy\", \"Precision\", \"Recall\", \"F1\"]\n",
        "table1.add_row([accuracy_sc,precision_sc,recall_sc,f1_sc])\n",
        "print(table1)\n",
        "print(\" \")\n",
        "print(\" \")\n",
        "# In sơ đồ\n",
        "labels = ['Accuracy', 'Precision', 'Recall', 'F1']\n",
        "counts = [2, 2, 2, 2]\n",
        "means = [accuracy.mean(), precision.mean(), recall.mean(), f1.mean()]\n",
        "stds = [accuracy.std(), precision.std(), recall.std(), f1.std()]\n",
        "mins = [accuracy.min(), precision.min(), recall.min(), f1.min()]\n",
        "maxs = [accuracy.max(), precision.max(), recall.max(), f1.max()]\n",
        "fig, ax = plt.subplots()\n",
        "x_pos = [i for i, _ in enumerate(labels)]\n",
        "ax.bar(x_pos, means, yerr=stds, align='center', alpha=0.5, ecolor='black', capsize=10)\n",
        "ax.set_ylabel('Score')\n",
        "ax.set_xticks(x_pos)\n",
        "ax.set_xticklabels(labels)\n",
        "ax.set_title('Performance Metrics')\n",
        "for i in range(len(x_pos)):\n",
        "    ax.errorbar(x_pos[i], means[i], yerr=stds[i], fmt='o', color='black', markersize=8)\n",
        "plt.show()\n",
        "print(\" \")\n",
        "print(\" \")\n",
        "confusion_mat = confusion_matrix(y_test, y_pred)\n",
        "confusion_mat = confusion_matrix(y_test, y_pred)\n",
        "print(confusion_mat)\n",
        "print('means',means)\n",
        "print('stds',stds)\n",
        "print('mins',mins)\n",
        "print('maxs',maxs)\n",
        "print([accuracy_sc,precision_sc,recall_sc,f1_sc])\n",
        "sns.heatmap(confusion_mat, annot=True, fmt='d', cmap='Blues')\n",
        "plt.xlabel('Predicted Label')\n",
        "plt.ylabel('True Label')\n",
        "plt.show()"
      ],
      "metadata": {
        "colab": {
          "base_uri": "https://localhost:8080/",
          "height": 1000
        },
        "id": "zofYJ1M6DBcE",
        "outputId": "d33fe739-a9ed-42e8-a447-b4f69848fddf"
      },
      "execution_count": 41,
      "outputs": [
        {
          "output_type": "stream",
          "name": "stdout",
          "text": [
            "BUILD AND EVALUATE DecisionTreeClassifier MODEL\n",
            "A. Cross Validation on Training Set\n",
            "+-----------+---------------------+---------------------+---------------------+----------------------+\n",
            "| Statistic |       Accuracy      |      Precision      |        Recall       |          F1          |\n",
            "+-----------+---------------------+---------------------+---------------------+----------------------+\n",
            "|   Count   |          5          |          5          |          5          |          5           |\n",
            "|    Mean   |  0.9028273809523808 |  0.8993482378699771 |  0.8970384615384617 |  0.8978523469163913  |\n",
            "|    Std    | 0.04963203525478654 | 0.05349677678964788 | 0.04973778052253988 | 0.051704555409536536 |\n",
            "|    Min    |       0.84375       |  0.8348348348348349 |  0.8430769230769231 |  0.8380566801619433  |\n",
            "|    25%    |       0.859375      |  0.8541666666666667 |  0.8487179487179488 |  0.8512012399896669  |\n",
            "|    50%    |       0.90625       |  0.9015384615384616 |  0.9015384615384616 |  0.9015384615384616  |\n",
            "|    75%    |  0.9206349206349206 |  0.9190217391304347 |  0.9118589743589743 |  0.9151629410180446  |\n",
            "|    Max    |  0.9841269841269841 |  0.9871794871794872 |         0.98        |  0.9833024118738404  |\n",
            "+-----------+---------------------+---------------------+---------------------+----------------------+\n",
            "B. Final Validation on Test Set\n",
            "+----------+--------------------+--------------------+--------------------+\n",
            "| Accuracy |     Precision      |       Recall       |         F1         |\n",
            "+----------+--------------------+--------------------+--------------------+\n",
            "|  0.8375  | 0.9166666666666666 | 0.8301886792452831 | 0.8712871287128713 |\n",
            "+----------+--------------------+--------------------+--------------------+\n",
            " \n",
            " \n"
          ]
        },
        {
          "output_type": "display_data",
          "data": {
            "text/plain": [
              "<Figure size 640x480 with 1 Axes>"
            ],
            "image/png": "[encoded data removed]"
          },
          "metadata": {}
        },
        {
          "output_type": "stream",
          "name": "stdout",
          "text": [
            " \n",
            " \n",
            "[[23  4]\n",
            " [ 9 44]]\n",
            "means [0.9028273809523808, 0.8993482378699771, 0.8970384615384617, 0.8978523469163913]\n",
            "stds [0.04963203525478654, 0.05349677678964788, 0.04973778052253988, 0.051704555409536536]\n",
            "mins [0.84375, 0.8348348348348349, 0.8430769230769231, 0.8380566801619433]\n",
            "maxs [0.9841269841269841, 0.9871794871794872, 0.98, 0.9833024118738404]\n",
            "[0.8375, 0.9166666666666666, 0.8301886792452831, 0.8712871287128713]\n"
          ]
        },
        {
          "output_type": "display_data",
          "data": {
            "text/plain": [
              "<Figure size 640x480 with 2 Axes>"
            ],
            "image/png": "[encoded data removed]"
          },
          "metadata": {}
        }
      ]
    },
    {
      "cell_type": "markdown",
      "source": [
        "6.Neural network"
      ],
      "metadata": {
        "id": "aTnorDs_DeZE"
      }
    },
    {
      "cell_type": "code",
      "source": [
        "from tensorflow.keras.models import Sequential\n",
        "from tensorflow.keras.layers import Dense\n",
        "from sklearn.metrics import precision_score\n",
        "import numpy as np\n",
        "from tensorflow.keras.wrappers.scikit_learn import KerasClassifier\n",
        "from sklearn.model_selection import cross_validate, StratifiedKFold\n",
        "\n",
        "# define the model builder function\n",
        "def build_model():\n",
        "    model = Sequential([\n",
        "        Dense(64, activation='relu', input_dim=X_train.shape[1]),\n",
        "        Dense(1, activation='sigmoid')\n",
        "    ])\n",
        "    model.compile(loss='binary_crossentropy', optimizer='adam', metrics=['accuracy'])\n",
        "    return model\n",
        "\n",
        "# wrap the model using KerasClassifier\n",
        "model = KerasClassifier(build_fn=build_model, epochs=50, batch_size=32, verbose=0)\n",
        "\n",
        "# define the cross-validation method\n",
        "kfold = StratifiedKFold(n_splits=5, shuffle=True, random_state=2)\n",
        "\n",
        "# evaluate the model using cross-validation\n",
        "scoring = ['accuracy', 'precision_macro', 'recall_macro', 'f1_macro']\n",
        "cv_results = cross_validate(model, X_train, y_train, cv=kfold, scoring=scoring)\n",
        "model.fit(X_train, y_train, epochs=50, batch_size=32, verbose=0)\n",
        "\n",
        "# make predictions on the test set\n",
        "y_pred_prob = model.predict_proba(X_test)\n",
        "y_pred = np.argmax(y_pred_prob, axis=1)\n",
        "accuracy = cv_results['test_accuracy']\n",
        "precision = cv_results['test_precision_macro']\n",
        "recall = cv_results['test_recall_macro']\n",
        "f1 = cv_results['test_f1_macro']\n",
        "accuracy_sc = accuracy_score(y_test, y_pred)\n",
        "precision_sc = precision_score(y_test, y_pred)\n",
        "recall_sc = recall_score(y_test, y_pred)\n",
        "f1_sc = f1_score(y_test, y_pred)\n",
        "# print the results\n",
        "print('BUILD AND EVALUATE DecisionTreeClassifier MODEL')\n",
        "print('A. Cross Validation on Training Set')\n",
        "\n",
        "table = PrettyTable()\n",
        "table.field_names = [\"Statistic\", \"Accuracy\", \"Precision\", \"Recall\", \"F1\"]\n",
        "table.add_row([\"Count\", len(accuracy), len(precision), len(recall), len(f1)])\n",
        "table.add_row([\"Mean\", accuracy.mean(), precision.mean(), recall.mean(), f1.mean()])\n",
        "table.add_row([\"Std\", accuracy.std(), precision.std(), recall.std(), f1.std()])\n",
        "table.add_row([\"Min\", accuracy.min(), precision.min(), recall.min(), f1.min()])\n",
        "table.add_row([\"25%\", pd.Series(accuracy).quantile(0.25), pd.Series(precision).quantile(0.25), pd.Series(recall).quantile(0.25), pd.Series(f1).quantile(0.25)])\n",
        "table.add_row([\"50%\", pd.Series(accuracy).quantile(0.5), pd.Series(precision).quantile(0.5), pd.Series(recall).quantile(0.5), pd.Series(f1).quantile(0.5)])\n",
        "table.add_row([\"75%\", pd.Series(accuracy).quantile(0.75), pd.Series(precision).quantile(0.75), pd.Series(recall).quantile(0.75), pd.Series(f1).quantile(0.75)])\n",
        "table.add_row([\"Max\", accuracy.max(), precision.max(), recall.max(), f1.max()])\n",
        "\n",
        "print(table)\n",
        "print('B. Final Validation on Test Set')\n",
        "\n",
        "\n",
        "table1 = PrettyTable()\n",
        "table1.field_names = [ \"Accuracy\", \"Precision\", \"Recall\", \"F1\"]\n",
        "table1.add_row([accuracy_sc,precision_sc,recall_sc,f1_sc])\n",
        "print(table1)\n",
        "print(\" \")\n",
        "print(\" \")\n",
        "# In sơ đồ\n",
        "labels = ['Accuracy', 'Precision', 'Recall', 'F1']\n",
        "counts = [2, 2, 2, 2]\n",
        "means = [accuracy.mean(), precision.mean(), recall.mean(), f1.mean()]\n",
        "stds = [accuracy.std(), precision.std(), recall.std(), f1.std()]\n",
        "mins = [accuracy.min(), precision.min(), recall.min(), f1.min()]\n",
        "maxs = [accuracy.max(), precision.max(), recall.max(), f1.max()]\n",
        "fig, ax = plt.subplots()\n",
        "x_pos = [i for i, _ in enumerate(labels)]\n",
        "ax.bar(x_pos, means, yerr=stds, align='center', alpha=0.5, ecolor='black', capsize=10)\n",
        "ax.set_ylabel('Score')\n",
        "ax.set_xticks(x_pos)\n",
        "ax.set_xticklabels(labels)\n",
        "ax.set_title('Performance Metrics')\n",
        "for i in range(len(x_pos)):\n",
        "    ax.errorbar(x_pos[i], means[i], yerr=stds[i], fmt='o', color='black', markersize=8)\n",
        "plt.show()\n",
        "print(\" \")\n",
        "print(\" \")\n",
        "confusion_mat = confusion_matrix(y_test, y_pred)\n",
        "sns.heatmap(confusion_mat, annot=True, fmt='d', cmap='Blues')\n",
        "plt.xlabel('Predicted Label')\n",
        "plt.ylabel('True Label')\n",
        "plt.show()"
      ],
      "metadata": {
        "colab": {
          "base_uri": "https://localhost:8080/",
          "height": 1000
        },
        "id": "M62GeLbZDe4j",
        "outputId": "89056ef2-eb08-4379-da19-0254b2d9e72c"
      },
      "execution_count": 42,
      "outputs": [
        {
          "output_type": "stream",
          "name": "stderr",
          "text": [
            "<ipython-input-42-5ea03108417a>:18: DeprecationWarning: KerasClassifier is deprecated, use Sci-Keras (https://github.com/adriangb/scikeras) instead. See https://www.adriangb.com/scikeras/stable/migration.html for help migrating.\n",
            "  model = KerasClassifier(build_fn=build_model, epochs=50, batch_size=32, verbose=0)\n"
          ]
        },
        {
          "output_type": "stream",
          "name": "stdout",
          "text": [
            "2/2 [==============================] - 0s 5ms/step\n",
            "2/2 [==============================] - 0s 4ms/step\n",
            "2/2 [==============================] - 0s 4ms/step\n",
            "2/2 [==============================] - 0s 3ms/step\n",
            "2/2 [==============================] - 0s 2ms/step\n",
            "3/3 [==============================] - 0s 3ms/step\n",
            "BUILD AND EVALUATE DecisionTreeClassifier MODEL\n",
            "A. Cross Validation on Training Set\n",
            "+-----------+---------------------+---------------------+----------------------+---------------------+\n",
            "| Statistic |       Accuracy      |      Precision      |        Recall        |          F1         |\n",
            "+-----------+---------------------+---------------------+----------------------+---------------------+\n",
            "|   Count   |          5          |          5          |          5           |          5          |\n",
            "|    Mean   |  0.9149801587301587 |  0.9123663753721752 |  0.9114001349527665  |  0.9107855114836039 |\n",
            "|    Std    | 0.03550055923728866 | 0.03651140269797706 | 0.036100371936355784 | 0.03685076719438147 |\n",
            "|    Min    |  0.873015873015873  |  0.8679802955665025 |  0.8605263157894737  |  0.8653846153846154 |\n",
            "|    25%    |        0.875        |  0.8722826086956521 |  0.8830769230769231  |  0.8718718718718719 |\n",
            "|    50%    |  0.9206349206349206 |  0.9190217391304347 |  0.9118589743589743  |  0.9151629410180446 |\n",
            "|    75%    |       0.953125      |  0.9483805668016194 |  0.9471794871794872  |  0.9504004133298889 |\n",
            "|    Max    |       0.953125      |  0.9541666666666666 |  0.9543589743589743  |  0.9511077158135982 |\n",
            "+-----------+---------------------+---------------------+----------------------+---------------------+\n",
            "B. Final Validation on Test Set\n",
            "+----------+--------------------+--------------------+--------------------+\n",
            "| Accuracy |     Precision      |       Recall       |         F1         |\n",
            "+----------+--------------------+--------------------+--------------------+\n",
            "|  0.8875  | 0.9782608695652174 | 0.8490566037735849 | 0.9090909090909092 |\n",
            "+----------+--------------------+--------------------+--------------------+\n",
            " \n",
            " \n"
          ]
        },
        {
          "output_type": "display_data",
          "data": {
            "text/plain": [
              "<Figure size 640x480 with 1 Axes>"
            ],
            "image/png": "[encoded data removed]"
          },
          "metadata": {}
        },
        {
          "output_type": "stream",
          "name": "stdout",
          "text": [
            " \n",
            " \n"
          ]
        },
        {
          "output_type": "display_data",
          "data": {
            "text/plain": [
              "<Figure size 640x480 with 2 Axes>"
            ],
            "image/png": "[encoded data removed]"
          },
          "metadata": {}
        }
      ]
    }
  ]
}